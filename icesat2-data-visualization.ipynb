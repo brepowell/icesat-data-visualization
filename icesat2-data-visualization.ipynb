{
 "cells": [
  {
   "cell_type": "code",
   "execution_count": null,
   "metadata": {},
   "outputs": [],
   "source": [
    "# Breanna Powell\n",
    "# Started 06/19/2024\n",
    "# Modified from https://icepyx.readthedocs.io/en/latest/example_notebooks/IS2_data_visualization.html\n",
    "\n"
   ]
  }
 ],
 "metadata": {
  "language_info": {
   "name": "python"
  }
 },
 "nbformat": 4,
 "nbformat_minor": 2
}
